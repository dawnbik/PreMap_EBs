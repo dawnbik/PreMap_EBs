{
 "cells": [
  {
   "cell_type": "code",
   "execution_count": 1,
   "metadata": {},
   "outputs": [],
   "source": [
    "import lightkurve as lk\n",
    "import matplotlib.pyplot as plt\n",
    "import numpy as np\n",
    "import pandas as pd\n",
    "from astropy.timeseries import LombScargle\n",
    "from astropy.io import ascii"
   ]
  },
  {
   "cell_type": "code",
   "execution_count": null,
   "metadata": {},
   "outputs": [],
   "source": [
    "def download_lightcurve(name):\n",
    "    \"\"\"Downloads the lightcurve for a given object. Returns the first table in the search result.\n",
    "    Uses lightkurve package.\"\"\"\n",
    "    search = lk.search_lightcurve(name)\n",
    "    # search.table[\"dataURL\"] = search.table[\"dataURI\"]\n",
    "    return search[0].download()\n",
    "\n",
    "# def find_period(table):\n",
    "#     \"\"\"Returns the period of a binary system given the lightcurve. Uses LombScargle from astropy.timeseries\"\"\"\n",
    "#     freq, power = LombScargle(table.time.value, table.flux.value).autopower()\n",
    "#     max_power = np.max(power)\n",
    "#     freq_at_max_power = freq[np.argmax(power)]\n",
    "#     period = 1.0 / freq_at_max_power\n",
    "#     return period\n",
    "\n",
    "def find_period(name):\n",
    "    data = ascii.read('rnaasac6e42t1_mrt.txt')\n",
    "    period = data[name]['BLS-Period']\n",
    "    return period"
   ]
  }
 ],
 "metadata": {
  "kernelspec": {
   "display_name": "Python 3 (ipykernel)",
   "language": "python",
   "name": "python3"
  },
  "language_info": {
   "codemirror_mode": {
    "name": "ipython",
    "version": 3
   },
   "file_extension": ".py",
   "mimetype": "text/x-python",
   "name": "python",
   "nbconvert_exporter": "python",
   "pygments_lexer": "ipython3",
   "version": "3.10.13"
  }
 },
 "nbformat": 4,
 "nbformat_minor": 2
}
